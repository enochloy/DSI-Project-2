{
 "cells": [
  {
   "cell_type": "markdown",
   "id": "8d0ebbdc",
   "metadata": {},
   "source": [
    "# Project 2"
   ]
  },
  {
   "cell_type": "markdown",
   "id": "f59048cf",
   "metadata": {},
   "source": [
    "### Import Libraries"
   ]
  },
  {
   "cell_type": "code",
   "execution_count": 1,
   "id": "7fa95810",
   "metadata": {},
   "outputs": [],
   "source": [
    "import numpy as np\n",
    "import pandas as pd\n",
    "import matplotlib.pyplot as plt\n",
    "import seaborn as sns\n",
    "\n",
    "from scipy.stats import skew, shapiro\n",
    "\n",
    "from sklearn import metrics\n",
    "from sklearn.linear_model import LinearRegression, Ridge, Lasso, RidgeCV, LassoCV\n",
    "from sklearn.model_selection import train_test_split, cross_val_score\n",
    "from sklearn.preprocessing import StandardScaler, MinMaxScaler, PowerTransformer\n",
    "\n",
    "from dython.nominal import identify_nominal_columns\n",
    "from dython.nominal import associations\n",
    "\n",
    "%config InlineBackend.figure_format = 'retina'"
   ]
  },
  {
   "cell_type": "markdown",
   "id": "1ce37919",
   "metadata": {},
   "source": [
    "### Import Datasets"
   ]
  },
  {
   "cell_type": "code",
   "execution_count": 2,
   "id": "ad825a7a",
   "metadata": {
    "scrolled": true
   },
   "outputs": [
    {
     "name": "stderr",
     "output_type": "stream",
     "text": [
      "C:\\Users\\enoch\\AppData\\Local\\Temp\\ipykernel_21984\\914542660.py:1: DtypeWarning: Columns (42) have mixed types. Specify dtype option on import or set low_memory=False.\n",
      "  train_clean = pd.read_csv('../datasets/train_pop_NaN.csv')\n",
      "C:\\Users\\enoch\\AppData\\Local\\Temp\\ipykernel_21984\\914542660.py:2: DtypeWarning: Columns (41) have mixed types. Specify dtype option on import or set low_memory=False.\n",
      "  test_clean = pd.read_csv('../datasets/test_pop_NaN.csv')\n"
     ]
    }
   ],
   "source": [
    "train_clean = pd.read_csv('../datasets/train_pop_NaN.csv')\n",
    "test_clean = pd.read_csv('../datasets/test_pop_NaN.csv')"
   ]
  },
  {
   "cell_type": "markdown",
   "id": "2b564c90",
   "metadata": {},
   "source": [
    "## Data Dictionary"
   ]
  },
  {
   "cell_type": "markdown",
   "id": "d92e59b0",
   "metadata": {},
   "source": [
    "|Feature|Type|Dataset|Description|\n",
    "|---|---|---|---|\n",
    "|**id**|*integer*|train_clean|unique id for each transaction|\n",
    "|**tranc_yearmonth**|*string*|train_clean|year and month of the resale transaction, e.g. 2015-02|\n",
    "|**town**|*string*|train_clean|HDB township where the flat is located, e.g. BUKIT MERAH|\n",
    "|**flat_type**|*string*|train_clean|type of the resale flat unit, e.g. 3 ROOM|\n",
    "|**block**|*string*|train_clean|block number of the resale flat, e.g. 454|\n",
    "|**street_name**|*string*|train_clean|street name where the resale flat resides, e.g. TAMPINES ST 42|\n",
    "|**storey_range**|*string*|train_clean|floor level (range) of the resale flat unit, e.g. 07 TO 09|\n",
    "|**floor_area_sqm**|*float*|train_clean|floor area of the resale flat unit in square metres|\n",
    "|**flat_model**|*string*|train_clean|HDB model of the resale flat, e.g. Multi Generation|\n",
    "|**lease_commence_date**|*integer*|train_clean|commencement year of the flat unit's 99-year lease|\n",
    "|**resale_price**|*float*|train_clean|the property's sale price in Singapore dollars|\n",
    "|**tranc_year**|*integer*|train_clean|year of resale transaction|\n",
    "|**tranc_month**|*integer*|train_clean|month of resale transaction|\n",
    "|**mid_storey**|*integer*|train_clean|median value of storey_range|\n",
    "|**lower**|*integer*|train_clean|lower value of storey_range|\n",
    "|**upper**|*integer*|train_clean|upper value of storey_range|\n",
    "|**mid**|*integer*|train_clean|middle value of storey_range|\n",
    "|**full_flat_type**|*string*|train_clean|combination of flat_type and flat_model|\n",
    "|**address**|*string*|train_clean|combination of block and street_name|\n",
    "|**floor_area_sqft**|*float*|train_clean|floor area of the resale flat unit in square feet|\n",
    "|**price_per_sqft**|*float*|train_clean|the property's price per square feet in Singapore dollars|\n",
    "|**hdb_age**|*integer*|train_clean|number of years from lease_commence_date to present year|\n",
    "|**max_floor_lvl**|*integer*|train_clean|highest floor of the resale flat|\n",
    "|**year_completed**|*integer*|train_clean|year which construction was completed for resale flat|\n",
    "|**residential**|*string*|train_clean|boolean value if resale flat has residential units in the same block|\n",
    "|**commercial**|*string*|train_clean|boolean value if resale flat has commercial units in the same block|\n",
    "|**market_hawker**|*string*|train_clean|boolean value if resale flat has a market or hawker centre in the same block|\n",
    "|**multistorey_carpark**|*string*|train_clean|boolean value if resale flat has a multistorey carpark in the same block|\n",
    "|**precinct_pavilion**|*string*|train_clean|boolean value if resale flat has a pavilion in the same block|\n",
    "|**total_dwelling_units**|*integer*|train_clean|total number of residential dwelling units in the resale flat|\n",
    "|**1room_sold**|*integer*|train_clean|number of 1-room residential units in the resale flat|\n",
    "|**2room_sold**|*integer*|train_clean|number of 2-room residential units in the resale flat|\n",
    "|**3room_sold**|*integer*|train_clean|number of 3-room residential units in the resale flat|\n",
    "|**4room_sold**|*integer*|train_clean|number of 4-room residential units in the resale flat|\n",
    "|**5room_sold**|*integer*|train_clean|number of 5-room residential units in the resale flat|\n",
    "|**exec_sold**|*integer*|train_clean|number of executive type residential units in the resale flat block|\n",
    "|**multigen_sold**|*integer*|train_clean|number of multi-generational type residential units in the resale flat block|\n",
    "|**studio_apartment_sold**|*integer*|train_clean|number of studio apartment type residential units in the resale flat block|\n",
    "|**1room_rental**|*integer*|train_clean|number of 1-room rental residential units in the resale flat block|\n",
    "|**2room_rental**|*integer*|train_clean|number of 2-room rental residential units in the resale flat block|\n",
    "|**3room_rental**|*integer*|train_clean|number of 3-room rental residential units in the resale flat block|\n",
    "|**other_room_rental**|*integer*|train_clean|number of \"other\" type rental residential units in the resale flat block|\n",
    "|**postal**|*string*|train_clean|postal code of the resale flat block|\n",
    "|**latitude**|*float*|train_clean|Latitude based on postal code|\n",
    "|**longitude**|*float*|train_clean|Longitude based on postal code|\n",
    "|**planning_area**|*string*|train_clean|Government planning area that the flat is located|\n",
    "|**mall_nearest_distance**|*float*|train_clean|distance (in metres) to the nearest mall|\n",
    "|**mall_within_500m**|*float*|train_clean|number of malls within 500 metres|\n",
    "|**mall_within_1km**|*float*|train_clean|number of malls within 1 kilometre|\n",
    "|**mall_within_2km**|*float*|train_clean|number of malls within 2 kilometre|\n",
    "|**hawker_nearest_distance**|*float*|train_clean|distance (in metres) to the nearest hawker centre|\n",
    "|**hawker_within_500m**|*float*|train_clean|number of hawker centres within 500 metres|\n",
    "|**hawker_within_1km**|*float*|train_clean|number of hawker centres within 1 kilometre|\n",
    "|**hawker_within_2km**|*float*|train_clean|number of hawker centres within 2 kilometre|\n",
    "|**hawker_food_stalls**|*integer*|train_clean|number of hawker food stalls in the nearest hawker centre|\n",
    "|**hawker_market_stalls**|*integer*|train_clean|number of hawker and market stalls in the nearest hawker centre|\n",
    "|**mrt_nearest_distance**|*float*|train_clean|distance (in metres) to the nearest MRT station|\n",
    "|**mrt_name**|*string*|train_clean|name of the nearest MRT station|\n",
    "|**bus_interchange**|*integer*|train_clean|boolean value if the nearest MRT station is also a bus interchange|\n",
    "|**mrt_interchange**|*integer*|train_clean|boolean value if the nearest MRT station is a train interchange station|\n",
    "|**mrt_latitude**|*float*|train_clean|latitude (in decimal degrees) of the the nearest MRT station|\n",
    "|**mrt_longitude**|*float*|train_clean|longitude (in decimal degrees) of the nearest MRT station|\n",
    "|**bus_stop_nearest_distance**|*float*|train_clean|distance (in metres) to the nearest bus stop|\n",
    "|**bus_stop_name**|*string*|train_clean|name of the nearest bus stop|\n",
    "|**bus_stop_latitude**|*float*|train_clean|latitude (in decimal degrees) of the the nearest bus stop|\n",
    "|**bus_stop_longitude**|*float*|train_clean|longitude (in decimal degrees) of the nearest bus stop|\n",
    "|**pri_sch_nearest_distance**|*float*|train_clean|distance (in metres) to the nearest primary school|\n",
    "|**pri_sch_name**|*string*|train_clean|name of the nearest primary school|\n",
    "|**vacancy**|*integer*|train_clean|number of vacancies in the nearest primary school|\n",
    "|**pri_sch_affiliation**|*integer*|train_clean|boolean value if the nearest primary school has a secondary school affiliation|\n",
    "|**pri_sch_latitude**|*float*|train_clean|latitude (in decimal degrees) of the the nearest primary school|\n",
    "|**pri_sch_longitude**|*float*|train_clean|longitude (in decimal degrees) of the nearest primary school|\n",
    "|**sec_sch_nearest_dist**|*float*|train_clean|distance (in metres) to the nearest secondary school|\n",
    "|**sec_sch_name**|*string*|train_clean|name of the nearest secondary school|\n",
    "|**cutoff_point**|*integer*|train_clean|PSLE cutoff point of the nearest secondary school|\n",
    "|**affiliation**|*integer*|train_clean|boolean value if the nearest secondary school has an primary school affiliation|\n",
    "|**sec_sch_latitude**|*float*|train_clean|latitude (in decimal degrees) of the the nearest secondary school|\n",
    "|**sec_sch_longitude**|*float*|train_clean|longitude (in decimal degrees) of the nearest secondary school|"
   ]
  },
  {
   "cell_type": "markdown",
   "id": "9d2432f5",
   "metadata": {},
   "source": [
    "### Heatmap before Dropping Redundant Columns"
   ]
  },
  {
   "cell_type": "code",
   "execution_count": null,
   "id": "43971ac1",
   "metadata": {
    "scrolled": false
   },
   "outputs": [],
   "source": [
    "complete_correlation = associations(train_clean, figsize=(40,40))\n",
    "# since data is stored as something akin to dictionary, with key being ['corr'], call key\n",
    "df_complete_corr = complete_correlation['corr']\n",
    "# style the table, drop NA, and precision of float\n",
    "df_complete_corr.dropna(axis=1, how='all').dropna(axis=0, how='all').style.background_gradient(cmap='icefire', axis=None)"
   ]
  },
  {
   "cell_type": "markdown",
   "id": "08b3d3c9",
   "metadata": {},
   "source": [
    "These columns are correlated/exhibit colinearity.\n",
    "- mid, mid_storey, lower, upper are correlated (r=1)\n",
    "- floor_area_sqm, floor_area_sqft are correlated (r=1)\n",
    "- hdb_age, lease_commence_date, year_completed are correlated (r~=1)\n",
    "- Hawker_Within_2km and Hawker_Within_1km (r = 0.83)"
   ]
  },
  {
   "cell_type": "code",
   "execution_count": null,
   "id": "a5d2712e",
   "metadata": {
    "scrolled": true
   },
   "outputs": [],
   "source": [
    "# Pairplot to visualize the correlation amongst numeric variables\n",
    "sns.pairplot(data=train_clean, y_vars='resale_price')"
   ]
  },
  {
   "cell_type": "markdown",
   "id": "f49d0d31",
   "metadata": {},
   "source": [
    "We note that only `floor_area_sqm` have a strong linear relationship with `resale_price`"
   ]
  },
  {
   "cell_type": "code",
   "execution_count": null,
   "id": "8f1b9af7",
   "metadata": {},
   "outputs": [],
   "source": [
    "# Boxplots to visualize categorical variables\n",
    "cat_col = ['town', 'flat_type', 'flat_model']\n",
    "fig, axes = plt.subplots(3, 1, figsize=(20,50))\n",
    "for i, col in enumerate(cat_col):\n",
    "    sns.boxplot(data=train_clean, x='resale_price', y=col, ax=axes[i])\n",
    "    sns.set_theme()\n",
    "    axes[i].set_title(col)\n",
    "plt.show()"
   ]
  },
  {
   "cell_type": "markdown",
   "id": "fae42ddf",
   "metadata": {},
   "source": [
    "### Select X Variables - 1st Round"
   ]
  },
  {
   "cell_type": "markdown",
   "id": "ada21e0a",
   "metadata": {},
   "source": [
    "The first round of X variables selection is based on our own existing Domain Knowledge."
   ]
  },
  {
   "cell_type": "markdown",
   "id": "2e3b126d",
   "metadata": {},
   "source": [
    "We were interested to know if being in the vicinity of a top ranking Primary School or Secondary School would affect the `resale_price`."
   ]
  },
  {
   "cell_type": "code",
   "execution_count": null,
   "id": "48391131",
   "metadata": {},
   "outputs": [],
   "source": [
    "# source: https://tutorcity.sg/blog/primary-school-ranking-2022\n",
    "top_10_pri_sch = [\"CHIJ Saint Nicholas Girls' School\",'Rosyth School','Pei Hwa Presbyterian Primary School',\n",
    "               'Nanyang Primary School','Catholic High School','Ai Tong School','Nan Hua Primary School',\n",
    "                 'Red Swastika School','Tao Nan School','Temasek Primary School']\n",
    "\n",
    "# source: https://schoolbell.sg/secondary-school-ranking/\n",
    "# if you're wondering where NYGH and HCI is at, they aren't in the list of secondary schools\n",
    "# same goes for any other top school you don't see on this list. It wasn't in the og set.\n",
    "top_10_sec_sch = [\"Raffles Girls' School\",'Raffles Institution',\"CHIJ Saint Nicholas Girls' School\",\n",
    "                 'Anglo-Chinese School',\"Methodist Girls' School\",'Dunman High School','Catholic High School',\n",
    "                 \"Cedar Girls' Secondary School\",'River Valley High School']\n",
    "\n",
    "train_clean['pri_sch_name'] = train_clean['pri_sch_name'].apply(lambda x: 1 if x in top_10_pri_sch else 0)\n",
    "train_clean['sec_sch_name'] = train_clean['sec_sch_name'].apply(lambda x: 1 if x in top_10_sec_sch else 0)"
   ]
  },
  {
   "cell_type": "code",
   "execution_count": null,
   "id": "0d925fa7",
   "metadata": {},
   "outputs": [],
   "source": [
    "lst_sel_cols = ['town','flat_type', 'mid', 'floor_area_sqm', 'flat_model', 'resale_price',\n",
    "                'tranc_year', 'tranc_month', 'hdb_age', 'max_floor_lvl', 'commercial', 'market_hawker', \n",
    "                'multistorey_carpark', 'precinct_pavilion', 'total_dwelling_units', '1room_sold', '2room_sold',\n",
    "                '3room_sold', '4room_sold', '5room_sold', 'exec_sold', 'multigen_sold', 'studio_apartment_sold', \n",
    "                '1room_rental', '2room_rental', '3room_rental', 'other_room_rental', 'mall_nearest_distance', \n",
    "                'mall_within_2km', 'hawker_nearest_distance', 'hawker_within_2km', 'hawker_food_stalls', \n",
    "                'hawker_market_stalls', 'mrt_nearest_distance', 'bus_interchange', 'mrt_interchange', \n",
    "                'bus_stop_nearest_distance', 'pri_sch_nearest_distance', 'pri_sch_name', 'vacancy', \n",
    "                'pri_sch_affiliation', 'sec_sch_nearest_dist', 'sec_sch_name', 'cutoff_point', 'affiliation']\n",
    "train_clean_sel = train_clean[lst_sel_cols]"
   ]
  },
  {
   "cell_type": "markdown",
   "id": "4185bae8",
   "metadata": {},
   "source": [
    "### Dummify Variables"
   ]
  },
  {
   "cell_type": "code",
   "execution_count": null,
   "id": "6067239e",
   "metadata": {},
   "outputs": [],
   "source": [
    "df_dummies=pd.get_dummies(train_clean_sel, drop_first=True)"
   ]
  },
  {
   "cell_type": "markdown",
   "id": "49a00b0d",
   "metadata": {},
   "source": [
    "### X and y Variables"
   ]
  },
  {
   "cell_type": "code",
   "execution_count": null,
   "id": "3e886416",
   "metadata": {},
   "outputs": [],
   "source": [
    "X = df_dummies.drop('resale_price',axis=1)\n",
    "y = train_clean['resale_price']"
   ]
  },
  {
   "cell_type": "markdown",
   "id": "9cc4c5e0",
   "metadata": {},
   "source": [
    "### Model Prep: Train/test split"
   ]
  },
  {
   "cell_type": "code",
   "execution_count": null,
   "id": "2a46ffd6",
   "metadata": {},
   "outputs": [],
   "source": [
    "X_train, X_test, y_train, y_test = train_test_split(X, y, random_state=42, train_size=0.85)"
   ]
  },
  {
   "cell_type": "markdown",
   "id": "ce30c504",
   "metadata": {},
   "source": [
    "### Model Prep: StandardScaler"
   ]
  },
  {
   "cell_type": "code",
   "execution_count": null,
   "id": "c3a7119b",
   "metadata": {},
   "outputs": [],
   "source": [
    "ss = StandardScaler()\n",
    "ss.fit(X_train)\n",
    "X_train_sc = ss.transform(X_train)\n",
    "X_test_sc = ss.transform(X_test)"
   ]
  },
  {
   "cell_type": "markdown",
   "id": "47915943",
   "metadata": {},
   "source": [
    "### Linear Regression (StandardScaler)"
   ]
  },
  {
   "cell_type": "code",
   "execution_count": null,
   "id": "1bed88d6",
   "metadata": {},
   "outputs": [],
   "source": [
    "# Create an instance of linear regression\n",
    "lr = LinearRegression()"
   ]
  },
  {
   "cell_type": "code",
   "execution_count": null,
   "id": "6a8ba997",
   "metadata": {},
   "outputs": [],
   "source": [
    "# Cross Val Score \n",
    "print(f'Cross-Validation Score on training set: {cross_val_score(lr, X_train_sc, y_train, cv=8).mean()}')\n",
    "print(f'Cross-Validation Score on testing set: {cross_val_score(lr, X_test_sc, y_test, cv=8).mean()}')"
   ]
  },
  {
   "cell_type": "code",
   "execution_count": null,
   "id": "9023b08c",
   "metadata": {},
   "outputs": [],
   "source": [
    "# Fit model instance on train data\n",
    "lr.fit(X_train_sc, y_train)"
   ]
  },
  {
   "cell_type": "code",
   "execution_count": null,
   "id": "b96b6a35",
   "metadata": {},
   "outputs": [],
   "source": [
    "# R-Squared - how well the predictor variables can explain the variation in the response variable \n",
    "print(f'R^2 on training set: {lr.score(X_train_sc, y_train)}')\n",
    "print(f'R^2 on testing set: {lr.score(X_test_sc, y_test)}')"
   ]
  },
  {
   "cell_type": "code",
   "execution_count": null,
   "id": "f8bfac2b",
   "metadata": {},
   "outputs": [],
   "source": [
    "# MSE - the lower the value the better and 0 means the model is perfect\n",
    "print(f'MSE on training set: {metrics.mean_squared_error(y_train, (lr.predict(X_train_sc)))}')\n",
    "print(f'MSE on testing set: {metrics.mean_squared_error(y_test, (lr.predict(X_test_sc)))}')"
   ]
  },
  {
   "cell_type": "code",
   "execution_count": null,
   "id": "b815fa26",
   "metadata": {},
   "outputs": [],
   "source": [
    "# RMSE - how well a regression model can predict the value of a response variable in absolute terms \n",
    "# closer to 0 the better\n",
    "print(f'RMSE on training set: {metrics.mean_squared_error(y_train, (lr.predict(X_train_sc)), squared=False)}')\n",
    "print(f'RMSE on testing set: {metrics.mean_squared_error(y_test, (lr.predict(X_test_sc)), squared=False)}')\n",
    "print(f'RMSE (on training set) over mean y value: {metrics.mean_squared_error(y_train, (lr.predict(X_train_sc)), squared=False)/train_clean[\"resale_price\"].mean()}')\n",
    "print(f'RMSE (on testing set) over mean y value: {metrics.mean_squared_error(y_test, (lr.predict(X_test_sc)), squared=False)/train_clean[\"resale_price\"].mean()}')"
   ]
  },
  {
   "cell_type": "code",
   "execution_count": null,
   "id": "a83501ae",
   "metadata": {
    "scrolled": true
   },
   "outputs": [],
   "source": [
    "# Create df for storing coefficients and their corresponding variable names\n",
    "coefficient_df = pd.DataFrame()\n",
    "\n",
    "# Storing all the column names of predictors\n",
    "coefficient_df['Column_Name'] = X_train.columns\n",
    "\n",
    "# Store coefficients of predictors\n",
    "coefficient_df['Coefficient_Value'] = pd.Series(lr.coef_) # this will differ for different models\n",
    "\n",
    "# Preview variables' coefficient values - The higher the values, the stronger the variables\n",
    "with pd.option_context('display.max_rows', None):\n",
    "    print(coefficient_df.sort_values(by='Coefficient_Value'))\n",
    "\n",
    "# Plot the coefficent values\n",
    "# Goal is to tune the model so that we get a more stable model i.e. similar size coefficient values\n",
    "plt.rcParams['figure.figsize'] = (15,10)\n",
    "sns.barplot(data=coefficient_df.sort_values(by='Coefficient_Value'), x='Coefficient_Value',y='Column_Name',orient='h',palette='icefire')\n",
    "None"
   ]
  },
  {
   "cell_type": "code",
   "execution_count": null,
   "id": "4aa3049a",
   "metadata": {},
   "outputs": [],
   "source": [
    "preds=lr.predict(X_test_sc)\n",
    "plt.figure(figsize = (5, 5))\n",
    "\n",
    "# Examine the relationship between observed and predicted values.\n",
    "sns.scatterplot(x=y_test, y=preds,alpha=0.5)\n",
    "sns.set_theme()\n",
    "\n",
    "# Line showing perfect predictions.\n",
    "plt.plot([0, max(max(y_test),max(preds))],\n",
    "         [0, max(max(y_test),max(preds))],\n",
    "         linestyle = '--',color='orange')\n",
    "\n",
    "plt.title('Linear Regression', fontsize = 15)\n",
    "plt.xlabel('True Values', fontsize = 10)\n",
    "plt.ylabel('Predicted Values', fontsize = 10);"
   ]
  },
  {
   "cell_type": "markdown",
   "id": "458e11ad",
   "metadata": {},
   "source": [
    "### Ridge (StandardScaler)"
   ]
  },
  {
   "cell_type": "code",
   "execution_count": null,
   "id": "996e6853",
   "metadata": {},
   "outputs": [],
   "source": [
    "%%time\n",
    "ridge_alphas = np.logspace(0, 5, 200)\n",
    "\n",
    "optimal_ridge = RidgeCV(alphas=ridge_alphas, cv=5)\n",
    "optimal_ridge.fit(X_train_sc, y_train)\n",
    "\n",
    "print (optimal_ridge.alpha_)"
   ]
  },
  {
   "cell_type": "code",
   "execution_count": null,
   "id": "aedff472",
   "metadata": {},
   "outputs": [],
   "source": [
    "ridge = Ridge(alpha=optimal_ridge.alpha_)"
   ]
  },
  {
   "cell_type": "code",
   "execution_count": null,
   "id": "fe6baa18",
   "metadata": {},
   "outputs": [],
   "source": [
    "# Cross Val Score \n",
    "print(f'Cross-Validation Score on training set: {cross_val_score(ridge, X_train_sc, y_train, cv=3).mean()}')\n",
    "print(f'Cross-Validation Score on testing set: {cross_val_score(ridge, X_test_sc, y_test, cv=3).mean()}')"
   ]
  },
  {
   "cell_type": "code",
   "execution_count": null,
   "id": "d83629b8",
   "metadata": {},
   "outputs": [],
   "source": [
    "# R-Squared - how well the predictor variables can explain the variation in the response variable \n",
    "# above 0.7 generally seen as high correlation, below 0.4 would show a low correlation\n",
    "print(f'R^2 on training set: {optimal_ridge.score(X_train_sc, y_train)}')\n",
    "print(f'R^2 on testing set: {optimal_ridge.score(X_test_sc, y_test)}')"
   ]
  },
  {
   "cell_type": "code",
   "execution_count": null,
   "id": "8fbd1369",
   "metadata": {},
   "outputs": [],
   "source": [
    "# MSE - the lower the value the better and 0 means the model is perfect\n",
    "print(f'MSE on training set: {metrics.mean_squared_error(y_train, (optimal_ridge.predict(X_train_sc)))}')\n",
    "print(f'MSE on testing set: {metrics.mean_squared_error(y_test, (optimal_ridge.predict(X_test_sc)))}')"
   ]
  },
  {
   "cell_type": "code",
   "execution_count": null,
   "id": "0c55409c",
   "metadata": {},
   "outputs": [],
   "source": [
    "# RMSE - how well a regression model can predict the value of a response variable in absolute terms \n",
    "# closer to 0 the better\n",
    "print(f'RMSE on training set: {metrics.mean_squared_error(y_train, (optimal_ridge.predict(X_train_sc)), squared=False)}')\n",
    "print(f'RMSE on testing set: {metrics.mean_squared_error(y_test, (optimal_ridge.predict(X_test_sc)), squared=False)}')\n",
    "print(f'RMSE (on training set) over mean y value: {metrics.mean_squared_error(y_train, (optimal_ridge.predict(X_train_sc)), squared=False)/train_clean[\"resale_price\"].mean()}')\n",
    "print(f'RMSE (on testing set) over mean y value: {metrics.mean_squared_error(y_test, (optimal_ridge.predict(X_test_sc)), squared=False)/train_clean[\"resale_price\"].mean()}')"
   ]
  },
  {
   "cell_type": "code",
   "execution_count": null,
   "id": "0a610728",
   "metadata": {
    "scrolled": true
   },
   "outputs": [],
   "source": [
    "# Create df for storing coefficients and their corresponding variable names\n",
    "coefficient_df = pd.DataFrame()\n",
    "\n",
    "# Storing all the column names of predictors\n",
    "coefficient_df['Column_Name'] = X_train.columns\n",
    "\n",
    "# Store coefficients of predictors\n",
    "coefficient_df['Coefficient_Value'] = pd.Series(optimal_ridge.coef_) # this will differ for different models\n",
    "\n",
    "# Preview variables' coefficient values - The higher the values, the stronger the variables\n",
    "with pd.option_context('display.max_rows', None):\n",
    "    print(coefficient_df.sort_values(by='Coefficient_Value'))\n",
    "\n",
    "# Plot the coefficent values\n",
    "# Goal is to tune the model so that we get a more stable model i.e. similar size coefficient values\n",
    "plt.rcParams['figure.figsize'] = (15,10)\n",
    "sns.barplot(data=coefficient_df.sort_values(by='Coefficient_Value'), x='Coefficient_Value',y='Column_Name',orient='h',palette='icefire')\n",
    "None"
   ]
  },
  {
   "cell_type": "code",
   "execution_count": null,
   "id": "d67b7b2f",
   "metadata": {},
   "outputs": [],
   "source": [
    "preds=optimal_ridge.predict(X_test_sc)\n",
    "plt.figure(figsize = (5, 5))\n",
    "\n",
    "# Examine the relationship between observed and predicted values.\n",
    "sns.scatterplot(x=y_test, y=preds,alpha=0.5)\n",
    "sns.set_theme()\n",
    "\n",
    "# Line showing perfect predictions.\n",
    "plt.plot([0, max(max(y_test),max(preds))],\n",
    "         [0, max(max(y_test),max(preds))],\n",
    "         linestyle = '--',color='orange')\n",
    "\n",
    "plt.title('Ridge', fontsize = 15)\n",
    "plt.xlabel('True Values', fontsize = 10)\n",
    "plt.ylabel('Predicted Values', fontsize = 10);"
   ]
  },
  {
   "cell_type": "markdown",
   "id": "7e64a5ab",
   "metadata": {},
   "source": [
    "### Lasso (StandardScaler)"
   ]
  },
  {
   "cell_type": "code",
   "execution_count": null,
   "id": "5bb08ceb",
   "metadata": {},
   "outputs": [],
   "source": [
    "# Test out 200 different alpha values on default 5-folds of data set and adopt the best performing alpha\n",
    "optimal_lasso = LassoCV(n_alphas=200, cv=5)\n",
    "# model fitting\n",
    "optimal_lasso.fit(X_train_sc, y_train)"
   ]
  },
  {
   "cell_type": "code",
   "execution_count": null,
   "id": "ad04b16e",
   "metadata": {},
   "outputs": [],
   "source": [
    "lasso = Lasso(alpha=optimal_lasso.alpha_)"
   ]
  },
  {
   "cell_type": "code",
   "execution_count": null,
   "id": "a82b596d",
   "metadata": {},
   "outputs": [],
   "source": [
    "# Cross Val Score \n",
    "print(f'Cross-Validation Score on training set: {cross_val_score(lasso, X_train_sc, y_train, cv=5).mean()}')\n",
    "print(f'Cross-Validation Score on testing set: {cross_val_score(lasso, X_test_sc, y_test, cv=5).mean()}')"
   ]
  },
  {
   "cell_type": "code",
   "execution_count": null,
   "id": "0b42f33f",
   "metadata": {},
   "outputs": [],
   "source": [
    "# R-Squared - how well the predictor variables can explain the variation in the response variable \n",
    "# above 0.7 generally seen as high correlation, below 0.4 would show a low correlation\n",
    "print(f'R^2 on training set: {optimal_lasso.score(X_train_sc, y_train)}')\n",
    "print(f'R^2 on testing set: {optimal_lasso.score(X_test_sc, y_test)}')"
   ]
  },
  {
   "cell_type": "code",
   "execution_count": null,
   "id": "dbb32b0d",
   "metadata": {},
   "outputs": [],
   "source": [
    "# MSE - the lower the value the better and 0 means the model is perfect\n",
    "print(f'MSE on training set: {metrics.mean_squared_error(y_train, (optimal_lasso.predict(X_train_sc)))}')\n",
    "print(f'MSE on testing set: {metrics.mean_squared_error(y_test, (optimal_lasso.predict(X_test_sc)))}')"
   ]
  },
  {
   "cell_type": "code",
   "execution_count": null,
   "id": "a2d2f750",
   "metadata": {},
   "outputs": [],
   "source": [
    "# RMSE - how well a regression model can predict the value of a response variable in absolute terms \n",
    "# closer to 0 the better\n",
    "print(f'RMSE on training set: {metrics.mean_squared_error(y_train, (optimal_lasso.predict(X_train_sc)), squared=False)}')\n",
    "print(f'RMSE on testing set: {metrics.mean_squared_error(y_test, (optimal_lasso.predict(X_test_sc)), squared=False)}')\n",
    "print(f'RMSE (on training set) over mean y value: {metrics.mean_squared_error(y_train, (optimal_lasso.predict(X_train_sc)), squared=False)/train_clean[\"resale_price\"].mean()}')\n",
    "print(f'RMSE (on testing set) over mean y value: {metrics.mean_squared_error(y_test, (optimal_lasso.predict(X_test_sc)), squared=False)/train_clean[\"resale_price\"].mean()}')"
   ]
  },
  {
   "cell_type": "code",
   "execution_count": null,
   "id": "c7ceafc8",
   "metadata": {
    "scrolled": false
   },
   "outputs": [],
   "source": [
    "# Create df for storing coefficients and their corresponding variable names\n",
    "coefficient_df = pd.DataFrame()\n",
    "\n",
    "# Storing all the column names of predictors\n",
    "coefficient_df['Column_Name'] = X_train.columns\n",
    "\n",
    "# Store coefficients of predictors\n",
    "coefficient_df['Coefficient_Value'] = pd.Series(optimal_lasso.coef_)\n",
    "\n",
    "# Preview variables' coefficient values - The higher the values, the stronger the variables\n",
    "with pd.option_context('display.max_rows', None):\n",
    "    print(coefficient_df.sort_values(by='Coefficient_Value'))\n",
    "\n",
    "# Plot the coefficent values\n",
    "# Goal is to tune the model so that we get a more stable model i.e. similar size coefficient values\n",
    "plt.rcParams['figure.figsize'] = (10,20)\n",
    "sns.barplot(data=coefficient_df.sort_values(by='Coefficient_Value'), x='Coefficient_Value',y='Column_Name',orient='h',palette='icefire')\n",
    "None"
   ]
  },
  {
   "cell_type": "code",
   "execution_count": null,
   "id": "a5269e3e",
   "metadata": {},
   "outputs": [],
   "source": [
    "preds=optimal_lasso.predict(X_test_sc)\n",
    "plt.figure(figsize = (5, 5))\n",
    "\n",
    "sns.scatterplot(x=y_test, y=preds,alpha=0.5)\n",
    "sns.set_theme()\n",
    "\n",
    "# Line showing perfect predictions.\n",
    "plt.plot([0, max(max(y_test),max(preds))],\n",
    "         [0, max(max(y_test),max(preds))],\n",
    "         linestyle = '--',color='orange')\n",
    "\n",
    "plt.title('Lasso', fontsize = 15)\n",
    "plt.xlabel('True Values', fontsize = 10)\n",
    "plt.ylabel('Predicted Values', fontsize = 10);"
   ]
  },
  {
   "cell_type": "markdown",
   "id": "709e5b09",
   "metadata": {},
   "source": [
    "### Dummify Variables"
   ]
  },
  {
   "cell_type": "code",
   "execution_count": null,
   "id": "9763f070",
   "metadata": {},
   "outputs": [],
   "source": [
    "df_dummies=pd.get_dummies(train_clean_sel, drop_first=True)"
   ]
  },
  {
   "cell_type": "markdown",
   "id": "c5ea1665",
   "metadata": {},
   "source": [
    "### Select K Best"
   ]
  },
  {
   "cell_type": "code",
   "execution_count": null,
   "id": "4518523c",
   "metadata": {},
   "outputs": [],
   "source": [
    "from sklearn.feature_selection import SelectKBest\n",
    "\n",
    "X = df_dummies.drop('resale_price',axis=1)\n",
    "y = train_clean['resale_price']\n",
    "\n",
    "# for regression, we use these two\n",
    "from sklearn.feature_selection import mutual_info_regression, f_regression\n",
    "\n",
    "# this function will take in X, y variables \n",
    "# with criteria, and return a dataframe\n",
    "# with most important columns\n",
    "# based on that criteria\n",
    "def featureSelect_dataframe(X, y, criteria, k):\n",
    "\n",
    "    # initialize our function/method\n",
    "    reg = SelectKBest(criteria, k=k).fit(X,y)\n",
    "    \n",
    "    # transform after creating the reg (so we can use getsupport)\n",
    "    X_transformed = reg.transform(X)\n",
    "\n",
    "    # filter down X based on kept columns\n",
    "    X = X[reg.get_feature_names_out()]\n",
    "\n",
    "    # return that dataframe\n",
    "    return X\n",
    "\n",
    "New_X = featureSelect_dataframe(X, y, mutual_info_regression, 20)\n",
    "\n",
    "sel_k_best=New_X.columns.tolist()\n",
    "sel_k_best"
   ]
  },
  {
   "cell_type": "code",
   "execution_count": null,
   "id": "bb93b0df",
   "metadata": {},
   "outputs": [],
   "source": [
    "# get all variables scores using select K Best  \n",
    "reg = SelectKBest(mutual_info_regression, k='all').fit(X,y)\n",
    "X_transformed = reg.transform(X) # not needed to get the score"
   ]
  },
  {
   "cell_type": "code",
   "execution_count": null,
   "id": "edabedcd",
   "metadata": {
    "scrolled": false
   },
   "outputs": [],
   "source": [
    "# stack 2 arrays together\n",
    "nested_array=np.vstack([reg.feature_names_in_,reg.scores_])\n",
    "# transpose array\n",
    "nested_array=nested_array.T\n",
    "# convert arrays to dataframe\n",
    "selKbest_df=pd.DataFrame(nested_array)\n",
    "selKbest_df=selKbest_df.rename(columns={0:'variables',1:'score'})\n",
    "# filter top 25\n",
    "selKbest_df=selKbest_df.sort_values(by='score', ascending=False).iloc[0:25,:]\n",
    "# plot\n",
    "sns.barplot(selKbest_df.sort_values(by='score'),x='score',y='variables',palette='icefire')\n",
    "sns.set(rc={'figure.figsize':(15,10)})"
   ]
  },
  {
   "cell_type": "code",
   "execution_count": null,
   "id": "43f45184",
   "metadata": {},
   "outputs": [],
   "source": [
    "coef_variables=coefficient_df[(coefficient_df['Coefficient_Value']<0) | (coefficient_df['Coefficient_Value']>0)]\\\n",
    "['Column_Name'].values.tolist()"
   ]
  },
  {
   "cell_type": "code",
   "execution_count": null,
   "id": "6d7cdf91",
   "metadata": {},
   "outputs": [],
   "source": [
    "# find common variables between Select K Best (top 20) and Lasso (more than 0 or less than 0)\n",
    "common_variables=[]\n",
    "for i in sel_k_best:\n",
    "    if i in coef_variables:\n",
    "        common_variables.append(i)\n",
    "        \n",
    "common_variables"
   ]
  },
  {
   "cell_type": "markdown",
   "id": "64e125dd",
   "metadata": {},
   "source": [
    "Second round of X variables selection is based on domain knowledge as well as common variables found between Select K Best (top 20) and Lasso (more than 0 or less than 0)."
   ]
  },
  {
   "cell_type": "code",
   "execution_count": null,
   "id": "eb3d99cc",
   "metadata": {},
   "outputs": [],
   "source": [
    "lst_sel_cols=['town', 'full_flat_type', 'floor_area_sqm',\n",
    "       'tranc_year', 'mid', 'hdb_age', 'max_floor_lvl',\n",
    "    'total_dwelling_units', \n",
    "    'mall_nearest_distance', 'resale_price',\n",
    "       'hawker_nearest_distance', 'hawker_within_2km',\n",
    "       'hawker_market_stalls', 'mrt_nearest_distance', 'bus_interchange',\n",
    "       'pri_sch_nearest_distance', 'sec_sch_nearest_dist']"
   ]
  }
 ],
 "metadata": {
  "kernelspec": {
   "display_name": "Python 3 (ipykernel)",
   "language": "python",
   "name": "python3"
  },
  "language_info": {
   "codemirror_mode": {
    "name": "ipython",
    "version": 3
   },
   "file_extension": ".py",
   "mimetype": "text/x-python",
   "name": "python",
   "nbconvert_exporter": "python",
   "pygments_lexer": "ipython3",
   "version": "3.9.13"
  }
 },
 "nbformat": 4,
 "nbformat_minor": 5
}
